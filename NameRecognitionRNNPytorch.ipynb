{
  "nbformat": 4,
  "nbformat_minor": 0,
  "metadata": {
    "colab": {
      "provenance": [],
      "gpuType": "T4",
      "mount_file_id": "1ugONciJB55qa1UwDaAOq2EMeRa3V9rq9",
      "authorship_tag": "ABX9TyMCEoZDI4TFXULjIuWFQ5KS",
      "include_colab_link": true
    },
    "kernelspec": {
      "name": "python3",
      "display_name": "Python 3"
    },
    "language_info": {
      "name": "python"
    },
    "accelerator": "GPU"
  },
  "cells": [
    {
      "cell_type": "markdown",
      "metadata": {
        "id": "view-in-github",
        "colab_type": "text"
      },
      "source": [
        "<a href=\"https://colab.research.google.com/github/AzeemWaqarRao/Pytorch_Implementations/blob/main/NameRecognitionRNNPytorch.ipynb\" target=\"_parent\"><img src=\"https://colab.research.google.com/assets/colab-badge.svg\" alt=\"Open In Colab\"/></a>"
      ]
    },
    {
      "cell_type": "code",
      "source": [
        "from io import open\n",
        "import glob\n",
        "import os\n",
        "import unicodedata\n",
        "import string\n",
        "import numpy as np\n",
        "import torch\n",
        "from torch import nn\n",
        "import random\n",
        "import matplotlib.pyplot as plt"
      ],
      "metadata": {
        "id": "BXxgOqIfcwru"
      },
      "execution_count": null,
      "outputs": []
    },
    {
      "cell_type": "code",
      "source": [],
      "metadata": {
        "id": "fLZFSDr2J6qs"
      },
      "execution_count": null,
      "outputs": []
    },
    {
      "cell_type": "code",
      "source": [],
      "metadata": {
        "id": "5KZ2toQFBKMV"
      },
      "execution_count": null,
      "outputs": []
    },
    {
      "cell_type": "code",
      "source": [
        "all_letters = string.ascii_letters + \" .,;'\"\n",
        "n_letters = len(all_letters)"
      ],
      "metadata": {
        "id": "4Ka9mn3E0ewF"
      },
      "execution_count": null,
      "outputs": []
    },
    {
      "cell_type": "code",
      "source": [
        "# Creating DataSet\n",
        "def create_dataset():\n",
        "\n",
        "  names_dict = {}\n",
        "  data_path = '/content/drive/MyDrive/Names_Data/names'\n",
        "\n",
        "  for fl in os.listdir(data_path):\n",
        "    lines = open(os.path.join(data_path,fl),'r').read().strip().split('\\n')\n",
        "    lines = [unicodeToAscii(name) for name in lines]\n",
        "\n",
        "    lang = fl.split('.')[0]\n",
        "    names_dict[lang] = lines\n",
        "\n",
        "  return names_dict\n"
      ],
      "metadata": {
        "id": "jzK9-aBsheG5"
      },
      "execution_count": null,
      "outputs": []
    },
    {
      "cell_type": "code",
      "source": [
        "# helper functions\n",
        "\n",
        "def letter_encoding(letter):\n",
        "  vec = torch.zeros((1,n_letters))\n",
        "  vec[0][int(all_letters.find(letter))] = 1\n",
        "  return vec\n",
        "\n",
        "def one_hot(word):\n",
        "  vec = torch.zeros(len(word),1, n_letters)\n",
        "  for i, letter in enumerate(word):\n",
        "    vec[i][0][all_letters.find(letter)] = 1\n",
        "  return vec\n",
        "\n",
        "def load_data():\n",
        "  names_dict = create_dataset()\n",
        "  return names_dict , list(names_dict.keys())\n",
        "\n",
        "# def category_from_output(output):\n",
        "#   _, names = load_data()\n",
        "#   return names[torch.argmax(output,1)]\n",
        "\n",
        "def category_from_output(output):\n",
        "    _, names = load_data()\n",
        "    category_idx = torch.argmax(output).item()\n",
        "    return names[category_idx]\n",
        "\n",
        "def random_choice(seq):\n",
        "  return seq[random.randint(0,len(seq)-1)]\n",
        "\n",
        "def get_random_sample(data, categories):\n",
        "  category = random_choice(categories)\n",
        "  name = random_choice(data[category])\n",
        "  category_tensor = torch.tensor([categories.index(category)], dtype=torch.long)\n",
        "  name_tensor = one_hot(name)\n",
        "  return name, category, name_tensor, category_tensor\n",
        "\n",
        "\n",
        "# Turn a Unicode string to plain ASCII\n",
        "def unicodeToAscii(s):\n",
        "    return ''.join(\n",
        "        c for c in unicodedata.normalize('NFD', s)\n",
        "        if unicodedata.category(c) != 'Mn'\n",
        "        and c in all_letters\n",
        "    )\n"
      ],
      "metadata": {
        "id": "HRqII6nkcutU"
      },
      "execution_count": null,
      "outputs": []
    },
    {
      "cell_type": "code",
      "source": [],
      "metadata": {
        "id": "TaxDkRuTuKdU"
      },
      "execution_count": null,
      "outputs": []
    },
    {
      "cell_type": "code",
      "source": [],
      "metadata": {
        "id": "RzQHY5RWuKm9"
      },
      "execution_count": null,
      "outputs": []
    },
    {
      "cell_type": "code",
      "source": [
        "class RNN(nn.Module):\n",
        "  def __init__(self,input_len, hidden_len, output_len):\n",
        "    super(RNN,self).__init__()\n",
        "    self.hidden_len = hidden_len\n",
        "\n",
        "    # layers\n",
        "    self.i2h = nn.Linear(input_len+hidden_len, hidden_len)\n",
        "    self.i2o = nn.Linear(input_len+hidden_len, output_len)\n",
        "    self.softmax = nn.LogSoftmax(dim=1) # shape(1,57) so we want to apply softmax along the second dimension\n",
        "\n",
        "  def forward(self,input,hidden_state):\n",
        "    input = torch.cat((input,hidden_state),dim=1)\n",
        "\n",
        "    hidden = self.i2h(input)\n",
        "    output = self.i2o(input)\n",
        "    output = self.softmax(output)\n",
        "    return output, hidden\n",
        "\n",
        "  def init_hidden(self):\n",
        "    return torch.zeros(1,self.hidden_len , dtype=torch.float32)"
      ],
      "metadata": {
        "id": "i0aEU9Xfp535"
      },
      "execution_count": null,
      "outputs": []
    },
    {
      "cell_type": "code",
      "source": [],
      "metadata": {
        "id": "cdsW7yU-HASi"
      },
      "execution_count": null,
      "outputs": []
    },
    {
      "cell_type": "code",
      "source": [
        "# getting data\n",
        "\n",
        "data, category_names = load_data()\n",
        "n_categories = len(category_names)"
      ],
      "metadata": {
        "id": "LexgOctjvG54"
      },
      "execution_count": null,
      "outputs": []
    },
    {
      "cell_type": "code",
      "source": [
        "hidden_len = 128\n",
        "rnn = RNN(n_letters, hidden_len, n_categories)"
      ],
      "metadata": {
        "id": "Y1RCVGdivN5H"
      },
      "execution_count": null,
      "outputs": []
    },
    {
      "cell_type": "code",
      "source": [
        "# doing one single step for one letter\n",
        "\n",
        "hidden_len = 128\n",
        "rnn = RNN(n_letters, hidden_len, n_categories)\n",
        "\n",
        "input = letter_encoding('G')\n",
        "hidden = rnn.init_hidden()\n",
        "\n",
        "output, new_hidden = rnn(input, hidden)\n",
        "\n",
        "print(output.shape)\n",
        "print(new_hidden.shape)"
      ],
      "metadata": {
        "colab": {
          "base_uri": "https://localhost:8080/"
        },
        "id": "qJi7Gcnbvv7D",
        "outputId": "ae4ed971-2d1f-4211-e2a4-33891c58b198"
      },
      "execution_count": null,
      "outputs": [
        {
          "output_type": "stream",
          "name": "stdout",
          "text": [
            "torch.Size([1, 18])\n",
            "torch.Size([1, 128])\n"
          ]
        }
      ]
    },
    {
      "cell_type": "code",
      "source": [
        "# doing for one name\n",
        "input_tensor = one_hot('Albert')\n",
        "\n",
        "rnn = RNN(n_letters, 128, n_categories)\n",
        "hidden_state = rnn.init_hidden()\n",
        "\n",
        "for tensor in input_tensor:\n",
        "  output, hidden_state = rnn(tensor, hidden_state)\n",
        "\n",
        "print(f\"The name is : {category_from_output(output)}\")"
      ],
      "metadata": {
        "colab": {
          "base_uri": "https://localhost:8080/"
        },
        "id": "6GTYlCW5wYCl",
        "outputId": "47db2c7c-84e5-4765-a18c-6b961b78ac5c"
      },
      "execution_count": null,
      "outputs": [
        {
          "output_type": "stream",
          "name": "stdout",
          "text": [
            "The name is : Japanese\n"
          ]
        }
      ]
    },
    {
      "cell_type": "code",
      "source": [
        "## Training The RNN\n",
        "\n",
        "# loading data\n",
        "data, categories = load_data()\n",
        "\n",
        "# initializing parameters\n",
        "n_letters = len(all_letters)\n",
        "hidden_len = 128\n",
        "output_len = len(categories)\n",
        "lr = 0.005\n",
        "\n",
        "# initializing the model\n",
        "rnn = RNN(n_letters, hidden_len, output_len)\n",
        "\n",
        "# loss and optimizer\n",
        "loss_fn = nn.NLLLoss()\n",
        "optimizer = torch.optim.SGD(rnn.parameters(), lr = lr)\n",
        "\n",
        "# train function\n",
        "\n",
        "def train(input_tensor, category_tensor):\n",
        "  hidden_tensor = rnn.init_hidden()\n",
        "\n",
        "  for tensor in input_tensor:\n",
        "    output, hidden_tensor = rnn(tensor, hidden_tensor)\n",
        "\n",
        "  loss = loss_fn(output, category_tensor)\n",
        "\n",
        "  optimizer.zero_grad()\n",
        "  loss.backward()\n",
        "  optimizer.step()\n",
        "\n",
        "  return output, loss.item()\n"
      ],
      "metadata": {
        "id": "SJY3tJ0r4OAE"
      },
      "execution_count": null,
      "outputs": []
    },
    {
      "cell_type": "code",
      "source": [
        "\n",
        "current_loss = 0\n",
        "losses = []\n",
        "n_iters = 100000\n",
        "plot_steps, print_steps = 1000,1000\n",
        "\n",
        "for i in range(n_iters):\n",
        "\n",
        "  name, category, name_tensor, category_tensor = get_random_sample(data,categories)\n",
        "\n",
        "  output, loss = train(name_tensor,category_tensor)\n",
        "  current_loss += loss\n",
        "\n",
        "  if (i+1) % plot_steps == 0:\n",
        "    losses.append(current_loss / plot_steps)\n",
        "    current_loss = 0\n",
        "\n",
        "  if (i+1) % print_steps == 0:\n",
        "    actual = category_from_output(output)\n",
        "    state = \"CORRECT\" if actual == category else f\"WRONG loss: {loss}\"\n",
        "    print(state)\n",
        "\n"
      ],
      "metadata": {
        "colab": {
          "base_uri": "https://localhost:8080/"
        },
        "id": "Hq6nU9oFlQQi",
        "outputId": "d7cc486d-1233-4820-a0bb-d4035041c0ea"
      },
      "execution_count": null,
      "outputs": [
        {
          "output_type": "stream",
          "name": "stdout",
          "text": [
            "CORRECT\n",
            "CORRECT\n",
            "CORRECT\n",
            "WRONG loss: 2.6492373943328857\n",
            "CORRECT\n",
            "WRONG loss: 2.8474743366241455\n",
            "WRONG loss: 2.51224684715271\n",
            "WRONG loss: 2.4757680892944336\n",
            "WRONG loss: 2.899132251739502\n",
            "CORRECT\n",
            "CORRECT\n",
            "CORRECT\n",
            "CORRECT\n",
            "WRONG loss: 2.129194974899292\n",
            "WRONG loss: 2.1252622604370117\n",
            "WRONG loss: 1.5965005159378052\n",
            "CORRECT\n",
            "CORRECT\n",
            "CORRECT\n",
            "WRONG loss: 1.5822515487670898\n",
            "CORRECT\n",
            "CORRECT\n",
            "WRONG loss: 3.2867493629455566\n",
            "WRONG loss: 3.6180224418640137\n",
            "CORRECT\n",
            "WRONG loss: 1.0208240747451782\n",
            "WRONG loss: 2.5163049697875977\n",
            "CORRECT\n",
            "WRONG loss: 2.354915142059326\n",
            "CORRECT\n",
            "CORRECT\n",
            "CORRECT\n",
            "WRONG loss: 2.3346190452575684\n",
            "WRONG loss: 2.6956686973571777\n",
            "CORRECT\n",
            "CORRECT\n",
            "CORRECT\n",
            "CORRECT\n",
            "CORRECT\n",
            "WRONG loss: 3.009779930114746\n",
            "CORRECT\n",
            "CORRECT\n",
            "WRONG loss: 1.810272216796875\n",
            "WRONG loss: 1.5623154640197754\n",
            "CORRECT\n",
            "WRONG loss: 2.3055849075317383\n",
            "WRONG loss: 2.3471198081970215\n",
            "WRONG loss: 2.4238429069519043\n",
            "CORRECT\n",
            "WRONG loss: 2.066862106323242\n",
            "CORRECT\n",
            "WRONG loss: 0.965409517288208\n",
            "WRONG loss: 1.4576504230499268\n",
            "WRONG loss: 1.6629434823989868\n",
            "CORRECT\n",
            "WRONG loss: 1.6124013662338257\n",
            "CORRECT\n",
            "CORRECT\n",
            "WRONG loss: 1.914414644241333\n",
            "CORRECT\n",
            "CORRECT\n",
            "WRONG loss: 2.530488967895508\n",
            "WRONG loss: 2.734116315841675\n",
            "CORRECT\n",
            "WRONG loss: 3.216062068939209\n",
            "CORRECT\n",
            "WRONG loss: 1.5404894351959229\n",
            "CORRECT\n",
            "CORRECT\n",
            "CORRECT\n",
            "CORRECT\n",
            "CORRECT\n",
            "WRONG loss: 2.4503486156463623\n",
            "CORRECT\n",
            "CORRECT\n",
            "CORRECT\n",
            "WRONG loss: 2.8415756225585938\n",
            "CORRECT\n",
            "CORRECT\n",
            "WRONG loss: 1.8839595317840576\n",
            "WRONG loss: 1.994681477546692\n",
            "CORRECT\n",
            "WRONG loss: 2.2825944423675537\n",
            "CORRECT\n",
            "CORRECT\n",
            "WRONG loss: 2.5212788581848145\n",
            "CORRECT\n",
            "WRONG loss: 4.478996276855469\n",
            "CORRECT\n",
            "WRONG loss: 1.7918542623519897\n",
            "WRONG loss: 3.797600269317627\n",
            "WRONG loss: 1.8647412061691284\n",
            "CORRECT\n",
            "WRONG loss: 1.4118987321853638\n",
            "CORRECT\n",
            "WRONG loss: 4.337692737579346\n",
            "CORRECT\n",
            "WRONG loss: 2.9727137088775635\n",
            "WRONG loss: 3.1982192993164062\n",
            "CORRECT\n"
          ]
        }
      ]
    },
    {
      "cell_type": "code",
      "source": [
        "plt.figure()\n",
        "plt.plot(range(1, n_iters//plot_steps+1), losses)\n",
        "plt.show()"
      ],
      "metadata": {
        "colab": {
          "base_uri": "https://localhost:8080/",
          "height": 430
        },
        "id": "vOh_zdlzGPUr",
        "outputId": "9cfd92c6-a389-4b72-d202-cee1f2b1d91a"
      },
      "execution_count": null,
      "outputs": [
        {
          "output_type": "display_data",
          "data": {
            "text/plain": [
              "<Figure size 640x480 with 1 Axes>"
            ],
            "image/png": "[encoded data removed]"
          },
          "metadata": {}
        }
      ]
    },
    {
      "cell_type": "code",
      "source": [],
      "metadata": {
        "id": "U4eR5CIqsXbx"
      },
      "execution_count": null,
      "outputs": []
    },
    {
      "cell_type": "code",
      "source": [],
      "metadata": {
        "id": "B2EReV8_sXlp"
      },
      "execution_count": null,
      "outputs": []
    },
    {
      "cell_type": "code",
      "source": [],
      "metadata": {
        "id": "-8dN88gHvBbD"
      },
      "execution_count": null,
      "outputs": []
    }
  ]
}