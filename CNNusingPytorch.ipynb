{
  "nbformat": 4,
  "nbformat_minor": 0,
  "metadata": {
    "colab": {
      "provenance": [],
      "gpuType": "T4",
      "authorship_tag": "ABX9TyMv3d8nMYNAZ80G4jbuC6zx",
      "include_colab_link": true
    },
    "kernelspec": {
      "name": "python3",
      "display_name": "Python 3"
    },
    "language_info": {
      "name": "python"
    },
    "accelerator": "GPU"
  },
  "cells": [
    {
      "cell_type": "markdown",
      "metadata": {
        "id": "view-in-github",
        "colab_type": "text"
      },
      "source": [
        "<a href=\"https://colab.research.google.com/github/AzeemWaqarRao/Pytorch_Implementations/blob/main/CNNusingPytorch.ipynb\" target=\"_parent\"><img src=\"https://colab.research.google.com/assets/colab-badge.svg\" alt=\"Open In Colab\"/></a>"
      ]
    },
    {
      "cell_type": "code",
      "execution_count": null,
      "metadata": {
        "id": "bre0VUcmAV5_"
      },
      "outputs": [],
      "source": [
        "import torch\n",
        "from torchvision.datasets import MNIST\n",
        "from torch import nn\n",
        "from torchvision.transforms import ToTensor\n",
        "from torch.utils.data import DataLoader,random_split\n",
        "from torch.optim import Adam\n"
      ]
    },
    {
      "cell_type": "code",
      "source": [
        "# Preparing Data"
      ],
      "metadata": {
        "id": "ggWruHWuBIhu"
      },
      "execution_count": null,
      "outputs": []
    },
    {
      "cell_type": "code",
      "source": [
        "dataset = MNIST(root = './data', train = True, transform = ToTensor(), download=True)"
      ],
      "metadata": {
        "colab": {
          "base_uri": "https://localhost:8080/"
        },
        "id": "3RCfIbrfB_tQ",
        "outputId": "33c51b0d-bd9d-4a51-fa4f-6cdee4afee59"
      },
      "execution_count": null,
      "outputs": [
        {
          "output_type": "stream",
          "name": "stdout",
          "text": [
            "Downloading http://yann.lecun.com/exdb/mnist/train-images-idx3-ubyte.gz\n",
            "Downloading http://yann.lecun.com/exdb/mnist/train-images-idx3-ubyte.gz to ./data/MNIST/raw/train-images-idx3-ubyte.gz\n"
          ]
        },
        {
          "output_type": "stream",
          "name": "stderr",
          "text": [
            "100%|██████████| 9912422/9912422 [00:00<00:00, 134624163.76it/s]"
          ]
        },
        {
          "output_type": "stream",
          "name": "stdout",
          "text": [
            "Extracting ./data/MNIST/raw/train-images-idx3-ubyte.gz to ./data/MNIST/raw\n"
          ]
        },
        {
          "output_type": "stream",
          "name": "stderr",
          "text": [
            "\n"
          ]
        },
        {
          "output_type": "stream",
          "name": "stdout",
          "text": [
            "\n",
            "Downloading http://yann.lecun.com/exdb/mnist/train-labels-idx1-ubyte.gz\n",
            "Downloading http://yann.lecun.com/exdb/mnist/train-labels-idx1-ubyte.gz to ./data/MNIST/raw/train-labels-idx1-ubyte.gz\n"
          ]
        },
        {
          "output_type": "stream",
          "name": "stderr",
          "text": [
            "100%|██████████| 28881/28881 [00:00<00:00, 60416804.90it/s]\n"
          ]
        },
        {
          "output_type": "stream",
          "name": "stdout",
          "text": [
            "Extracting ./data/MNIST/raw/train-labels-idx1-ubyte.gz to ./data/MNIST/raw\n",
            "\n",
            "Downloading http://yann.lecun.com/exdb/mnist/t10k-images-idx3-ubyte.gz\n",
            "Downloading http://yann.lecun.com/exdb/mnist/t10k-images-idx3-ubyte.gz to ./data/MNIST/raw/t10k-images-idx3-ubyte.gz\n"
          ]
        },
        {
          "output_type": "stream",
          "name": "stderr",
          "text": [
            "100%|██████████| 1648877/1648877 [00:00<00:00, 36474489.06it/s]"
          ]
        },
        {
          "output_type": "stream",
          "name": "stdout",
          "text": [
            "Extracting ./data/MNIST/raw/t10k-images-idx3-ubyte.gz to ./data/MNIST/raw\n"
          ]
        },
        {
          "output_type": "stream",
          "name": "stderr",
          "text": [
            "\n"
          ]
        },
        {
          "output_type": "stream",
          "name": "stdout",
          "text": [
            "\n",
            "Downloading http://yann.lecun.com/exdb/mnist/t10k-labels-idx1-ubyte.gz\n",
            "Downloading http://yann.lecun.com/exdb/mnist/t10k-labels-idx1-ubyte.gz to ./data/MNIST/raw/t10k-labels-idx1-ubyte.gz\n"
          ]
        },
        {
          "output_type": "stream",
          "name": "stderr",
          "text": [
            "100%|██████████| 4542/4542 [00:00<00:00, 5099177.94it/s]\n"
          ]
        },
        {
          "output_type": "stream",
          "name": "stdout",
          "text": [
            "Extracting ./data/MNIST/raw/t10k-labels-idx1-ubyte.gz to ./data/MNIST/raw\n",
            "\n"
          ]
        }
      ]
    },
    {
      "cell_type": "code",
      "source": [
        "train_set, test_set = random_split(dataset, [50000, 10000])"
      ],
      "metadata": {
        "id": "gYfo8k4BR958"
      },
      "execution_count": null,
      "outputs": []
    },
    {
      "cell_type": "code",
      "source": [
        "train_data = DataLoader(train_set,32)\n",
        "test_data = DataLoader(test_set,32)"
      ],
      "metadata": {
        "id": "klb-3D45CURn"
      },
      "execution_count": null,
      "outputs": []
    },
    {
      "cell_type": "code",
      "source": [
        "len(train_set), len(test_set)"
      ],
      "metadata": {
        "colab": {
          "base_uri": "https://localhost:8080/"
        },
        "id": "S9O-53kgSMoZ",
        "outputId": "92a8cbcf-d8ad-4bbb-cff6-4d706799a58f"
      },
      "execution_count": null,
      "outputs": [
        {
          "output_type": "execute_result",
          "data": {
            "text/plain": [
              "(50000, 10000)"
            ]
          },
          "metadata": {},
          "execution_count": 28
        }
      ]
    },
    {
      "cell_type": "code",
      "source": [
        "X,y = [batch for batch in train_data][0]"
      ],
      "metadata": {
        "id": "_ktHSxBJSisH"
      },
      "execution_count": null,
      "outputs": []
    },
    {
      "cell_type": "code",
      "source": [
        "y"
      ],
      "metadata": {
        "colab": {
          "base_uri": "https://localhost:8080/"
        },
        "id": "M3GP1QdcS2Vp",
        "outputId": "57590c1a-3d4f-4106-a4a3-bb23973e1da6"
      },
      "execution_count": null,
      "outputs": [
        {
          "output_type": "execute_result",
          "data": {
            "text/plain": [
              "tensor([1, 0, 5, 0, 9, 7, 0, 8, 1, 5, 3, 5, 9, 9, 3, 4, 7, 8, 4, 1, 5, 2, 2, 2,\n",
              "        4, 6, 5, 1, 2, 2, 6, 1])"
            ]
          },
          "metadata": {},
          "execution_count": 35
        }
      ]
    },
    {
      "cell_type": "code",
      "source": [
        "# Creating Neural Network"
      ],
      "metadata": {
        "id": "5JDAeXA_CkHq"
      },
      "execution_count": null,
      "outputs": []
    },
    {
      "cell_type": "code",
      "source": [
        "from torch.nn.modules.activation import ReLU\n",
        "class CNN(nn.Module):\n",
        "  def __init__(self):\n",
        "    super().__init__()\n",
        "    self.model = nn.Sequential(\n",
        "        nn.Conv2d(1,32,(3,3)),\n",
        "        nn.ReLU(),\n",
        "        nn.Conv2d(32,64,(3,3)),\n",
        "        nn.ReLU(),\n",
        "        nn.Conv2d(64,64,(3,3)),\n",
        "        nn.ReLU(),\n",
        "        nn.Flatten(),\n",
        "        nn.Linear(64*22*22,10)\n",
        "    )\n",
        "\n",
        "  def forward(self,x):\n",
        "    return self.model(x)"
      ],
      "metadata": {
        "id": "d-m6iTiDCxOr"
      },
      "execution_count": null,
      "outputs": []
    },
    {
      "cell_type": "code",
      "source": [
        "cnn = CNN().to('cuda')"
      ],
      "metadata": {
        "id": "I6enmNRDC2t9"
      },
      "execution_count": null,
      "outputs": []
    },
    {
      "cell_type": "code",
      "source": [
        "loss = nn.CrossEntropyLoss()\n",
        "optimizer = Adam(cnn.parameters(),lr=1e-3)"
      ],
      "metadata": {
        "id": "rhf28Q4XIJ_i"
      },
      "execution_count": null,
      "outputs": []
    },
    {
      "cell_type": "code",
      "source": [
        "for epoch in range(10):\n",
        "  for batch in train_data:\n",
        "    X,y = batch\n",
        "    X,y = X.to('cuda'), y.to('cuda')\n",
        "    yhat = cnn(X)\n",
        "    loss_val = loss(yhat,y)\n",
        "\n",
        "    # apply backprop\n",
        "    optimizer.zero_grad()\n",
        "    loss_val.backward()\n",
        "    optimizer.step()\n",
        "  print(f\"epoch {epoch} , Loss {loss_val.item()}\")"
      ],
      "metadata": {
        "colab": {
          "base_uri": "https://localhost:8080/"
        },
        "id": "2fLHkNUWI8_3",
        "outputId": "21cc0d85-347c-470d-8f7d-3ec8951ba9b8"
      },
      "execution_count": null,
      "outputs": [
        {
          "output_type": "stream",
          "name": "stdout",
          "text": [
            "epoch 0 , Loss 0.0628684014081955\n",
            "epoch 1 , Loss 0.0035062895622104406\n",
            "epoch 2 , Loss 0.03281376510858536\n",
            "epoch 3 , Loss 7.847746019251645e-05\n",
            "epoch 4 , Loss 0.003355341963469982\n",
            "epoch 5 , Loss 0.000566033530049026\n",
            "epoch 6 , Loss 0.00026751254335977137\n",
            "epoch 7 , Loss 1.2731760762108024e-05\n",
            "epoch 8 , Loss 6.934305565664545e-05\n",
            "epoch 9 , Loss 0.0055708568543195724\n"
          ]
        }
      ]
    },
    {
      "cell_type": "code",
      "source": [
        "results = torch.tensor([]).to('cuda')\n",
        "actual = torch.tensor([]).to('cuda')\n",
        "for batch in test_data:\n",
        "  X,y = batch\n",
        "  X,y = X.to('cuda'), y.to('cuda')\n",
        "  yhat = cnn(X)\n",
        "  pred = (yhat.argmax(axis=1))\n",
        "  results = torch.cat((results,pred))\n",
        "  actual = torch.cat((actual,y))\n"
      ],
      "metadata": {
        "id": "0HnOzsfgJC2Y"
      },
      "execution_count": null,
      "outputs": []
    },
    {
      "cell_type": "code",
      "source": [
        "from sklearn.metrics import confusion_matrix, classification_report"
      ],
      "metadata": {
        "id": "_dtaBSEKTqq-"
      },
      "execution_count": null,
      "outputs": []
    },
    {
      "cell_type": "code",
      "source": [
        "cf = confusion_matrix(results.tolist(),actual.tolist())"
      ],
      "metadata": {
        "id": "IRbHUHxwTsBn"
      },
      "execution_count": null,
      "outputs": []
    },
    {
      "cell_type": "code",
      "source": [
        "print(cf)"
      ],
      "metadata": {
        "colab": {
          "base_uri": "https://localhost:8080/"
        },
        "id": "9PmCVYyJUK0u",
        "outputId": "72291291-d3c5-4a61-e018-269f162411e2"
      },
      "execution_count": null,
      "outputs": [
        {
          "output_type": "stream",
          "name": "stdout",
          "text": [
            "[[ 979    0    1    0    2    1   10    0    2    2]\n",
            " [   0 1100    5    1    1    2    1    4    0    1]\n",
            " [   1    3  995    5    1    0    0    6    1    1]\n",
            " [   0    0    2  948    0    5    0    0    2    0]\n",
            " [   0    0    1    0  985    0    2    2    0    6]\n",
            " [   0    0    0    2    1  887    0    0    0    0]\n",
            " [   3    0    1    0    2    7  991    0    0    1]\n",
            " [   1    2    6    4    1    0    0 1077    2    1]\n",
            " [   2    2    4    2    3    6    5    1  944    8]\n",
            " [   1    1    0    0    4    2    1    3    5  939]]\n"
          ]
        }
      ]
    },
    {
      "cell_type": "code",
      "source": [
        "cr = classification_report(results.tolist(),actual.tolist())\n",
        "print(cr)"
      ],
      "metadata": {
        "colab": {
          "base_uri": "https://localhost:8080/"
        },
        "id": "s9ypqG5OWY22",
        "outputId": "1656824e-e6a1-40ad-fe15-3415c5a95d73"
      },
      "execution_count": null,
      "outputs": [
        {
          "output_type": "stream",
          "name": "stdout",
          "text": [
            "              precision    recall  f1-score   support\n",
            "\n",
            "         0.0       0.99      0.98      0.99       997\n",
            "         1.0       0.99      0.99      0.99      1115\n",
            "         2.0       0.98      0.98      0.98      1013\n",
            "         3.0       0.99      0.99      0.99       957\n",
            "         4.0       0.98      0.99      0.99       996\n",
            "         5.0       0.97      1.00      0.99       890\n",
            "         6.0       0.98      0.99      0.98      1005\n",
            "         7.0       0.99      0.98      0.98      1094\n",
            "         8.0       0.99      0.97      0.98       977\n",
            "         9.0       0.98      0.98      0.98       956\n",
            "\n",
            "    accuracy                           0.98     10000\n",
            "   macro avg       0.98      0.98      0.98     10000\n",
            "weighted avg       0.98      0.98      0.98     10000\n",
            "\n"
          ]
        }
      ]
    },
    {
      "cell_type": "code",
      "source": [
        "torch.save(cnn,'cnn.pt')"
      ],
      "metadata": {
        "id": "aa-x8bQNYgGb"
      },
      "execution_count": null,
      "outputs": []
    },
    {
      "cell_type": "code",
      "source": [],
      "metadata": {
        "id": "zHiZ64NVaFtB"
      },
      "execution_count": null,
      "outputs": []
    }
  ]
}