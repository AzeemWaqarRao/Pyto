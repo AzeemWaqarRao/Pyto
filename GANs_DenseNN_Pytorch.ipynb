{
  "cells": [
    {
      "cell_type": "markdown",
      "metadata": {
        "id": "view-in-github",
        "colab_type": "text"
      },
      "source": [
        "<a href=\"https://colab.research.google.com/github/AzeemWaqarRao/Pytorch_Implementations/blob/main/GANs_DenseNN_Pytorch.ipynb\" target=\"_parent\"><img src=\"https://colab.research.google.com/assets/colab-badge.svg\" alt=\"Open In Colab\"/></a>"
      ]
    },
    {
      "cell_type": "code",
      "execution_count": null,
      "metadata": {
        "colab": {
          "background_save": true
        },
        "id": "UXP_V-i3Lr7L"
      },
      "outputs": [],
      "source": [
        "import torch\n",
        "from torch import nn\n",
        "from torchvision.datasets import MNIST\n",
        "from torch.utils.data import DataLoader\n",
        "from torchvision import transforms\n",
        "from torchvision.utils import save_image\n",
        "import os\n",
        "import shutil"
      ]
    },
    {
      "cell_type": "code",
      "execution_count": null,
      "metadata": {
        "colab": {
          "background_save": true
        },
        "id": "Xa9tGxzSVNlI"
      },
      "outputs": [],
      "source": [
        "noise_size = 64\n",
        "hidden_size = 256\n",
        "image_size = 784\n",
        "epochs = 50\n",
        "batch_size = 100\n",
        "step_size = 200"
      ]
    },
    {
      "cell_type": "code",
      "execution_count": null,
      "metadata": {
        "colab": {
          "background_save": true
        },
        "id": "CkM4WNnYVkWb",
        "outputId": "42d40e43-5600-4516-8e2d-71709eb023e9"
      },
      "outputs": [
        {
          "name": "stdout",
          "output_type": "stream",
          "text": [
            "Using cpu device\n"
          ]
        }
      ],
      "source": [
        "device = (\n",
        "    \"cuda\"\n",
        "    if torch.cuda.is_available()\n",
        "    else \"cpu\"\n",
        ")\n",
        "print(f\"Using {device} device\")"
      ]
    },
    {
      "cell_type": "code",
      "execution_count": null,
      "metadata": {
        "colab": {
          "background_save": true
        },
        "id": "AMfXUxrtRZha"
      },
      "outputs": [],
      "source": [
        "transform = transforms.Compose([\n",
        "    transforms.ToTensor(),\n",
        "    transforms.Normalize(mean=[0.5], std=[0.5])\n",
        "])"
      ]
    },
    {
      "cell_type": "code",
      "execution_count": null,
      "metadata": {
        "colab": {
          "background_save": true
        },
        "id": "QfFOasl9OKzP",
        "outputId": "d2f1a5f7-697e-48d4-bce1-9fc3fd273103"
      },
      "outputs": [
        {
          "name": "stdout",
          "output_type": "stream",
          "text": [
            "Downloading http://yann.lecun.com/exdb/mnist/train-images-idx3-ubyte.gz\n",
            "Downloading http://yann.lecun.com/exdb/mnist/train-images-idx3-ubyte.gz to ./data/MNIST/raw/train-images-idx3-ubyte.gz\n"
          ]
        },
        {
          "name": "stderr",
          "output_type": "stream",
          "text": [
            "100%|██████████| 9912422/9912422 [00:00<00:00, 113081646.53it/s]\n"
          ]
        },
        {
          "name": "stdout",
          "output_type": "stream",
          "text": [
            "Extracting ./data/MNIST/raw/train-images-idx3-ubyte.gz to ./data/MNIST/raw\n",
            "\n",
            "Downloading http://yann.lecun.com/exdb/mnist/train-labels-idx1-ubyte.gz\n",
            "Downloading http://yann.lecun.com/exdb/mnist/train-labels-idx1-ubyte.gz to ./data/MNIST/raw/train-labels-idx1-ubyte.gz\n"
          ]
        },
        {
          "name": "stderr",
          "output_type": "stream",
          "text": [
            "100%|██████████| 28881/28881 [00:00<00:00, 51922714.88it/s]\n"
          ]
        },
        {
          "name": "stdout",
          "output_type": "stream",
          "text": [
            "Extracting ./data/MNIST/raw/train-labels-idx1-ubyte.gz to ./data/MNIST/raw\n",
            "\n",
            "Downloading http://yann.lecun.com/exdb/mnist/t10k-images-idx3-ubyte.gz\n",
            "Downloading http://yann.lecun.com/exdb/mnist/t10k-images-idx3-ubyte.gz to ./data/MNIST/raw/t10k-images-idx3-ubyte.gz\n"
          ]
        },
        {
          "name": "stderr",
          "output_type": "stream",
          "text": [
            "100%|██████████| 1648877/1648877 [00:00<00:00, 28015666.48it/s]\n"
          ]
        },
        {
          "name": "stdout",
          "output_type": "stream",
          "text": [
            "Extracting ./data/MNIST/raw/t10k-images-idx3-ubyte.gz to ./data/MNIST/raw\n",
            "\n",
            "Downloading http://yann.lecun.com/exdb/mnist/t10k-labels-idx1-ubyte.gz\n",
            "Downloading http://yann.lecun.com/exdb/mnist/t10k-labels-idx1-ubyte.gz to ./data/MNIST/raw/t10k-labels-idx1-ubyte.gz\n"
          ]
        },
        {
          "name": "stderr",
          "output_type": "stream",
          "text": [
            "100%|██████████| 4542/4542 [00:00<00:00, 4555363.17it/s]\n"
          ]
        },
        {
          "name": "stdout",
          "output_type": "stream",
          "text": [
            "Extracting ./data/MNIST/raw/t10k-labels-idx1-ubyte.gz to ./data/MNIST/raw\n",
            "\n"
          ]
        }
      ],
      "source": [
        "mnist = MNIST(root='./data', train=True, transform=transform, download=True)\n"
      ]
    },
    {
      "cell_type": "code",
      "execution_count": null,
      "metadata": {
        "colab": {
          "background_save": true
        },
        "id": "93MQQ7f5OY_z"
      },
      "outputs": [],
      "source": [
        "data = DataLoader(mnist, batch_size=batch_size, shuffle=True)"
      ]
    },
    {
      "cell_type": "code",
      "execution_count": null,
      "metadata": {
        "colab": {
          "background_save": true
        },
        "id": "x40YByH5Pbku",
        "outputId": "5c8cb8fd-a0d6-462b-e47a-e2c5e315942d"
      },
      "outputs": [
        {
          "name": "stdout",
          "output_type": "stream",
          "text": [
            "tensor(-1.)\n",
            "tensor(1.)\n"
          ]
        },
        {
          "data": {
            "text/plain": [
              "torch.Size([100, 1, 28, 28])"
            ]
          },
          "execution_count": 7,
          "metadata": {},
          "output_type": "execute_result"
        }
      ],
      "source": [
        "for i in data:\n",
        "  batch_info = (i[0].shape)\n",
        "  print(i[0].min())\n",
        "  print(i[0].max())\n",
        "  break\n",
        "iterations = len(data)\n",
        "batch_info"
      ]
    },
    {
      "cell_type": "code",
      "execution_count": null,
      "metadata": {
        "colab": {
          "background_save": true
        },
        "id": "2EKDQHa8TgOZ"
      },
      "outputs": [],
      "source": [
        "class Generator(nn.Module):\n",
        "  def __init__(self):\n",
        "    super().__init__()\n",
        "    self.sequential = nn.Sequential(\n",
        "        nn.Linear(noise_size, hidden_size),\n",
        "        nn.ReLU(),\n",
        "        nn.Linear(hidden_size, hidden_size),\n",
        "        nn.ReLU(),\n",
        "        nn.Linear(hidden_size, image_size),\n",
        "        nn.Tanh()\n",
        "    )\n",
        "\n",
        "  def forward(self, x):\n",
        "    x = self.sequential(x)\n",
        "    return x"
      ]
    },
    {
      "cell_type": "code",
      "execution_count": null,
      "metadata": {
        "colab": {
          "background_save": true
        },
        "id": "E9lEGiQxkG43"
      },
      "outputs": [],
      "source": [
        "class Discriminator(nn.Module):\n",
        "  def __init__(self):\n",
        "    super().__init__()\n",
        "    self.sequential = nn.Sequential(\n",
        "        nn.Linear(image_size, hidden_size),\n",
        "        nn.LeakyReLU(0.2),\n",
        "        nn.Linear(hidden_size, hidden_size),\n",
        "        nn.LeakyReLU(0.2),\n",
        "        nn.Linear(hidden_size, 1),\n",
        "        nn.Sigmoid()\n",
        "    )\n",
        "\n",
        "  def forward(self, x):\n",
        "    x = self.sequential(x)\n",
        "    return x"
      ]
    },
    {
      "cell_type": "code",
      "execution_count": null,
      "metadata": {
        "id": "sJqJhyOtVxFw"
      },
      "outputs": [],
      "source": [
        "generator = Generator().to(device)\n",
        "discriminator = Discriminator().to(device)"
      ]
    },
    {
      "cell_type": "code",
      "execution_count": null,
      "metadata": {
        "id": "MpKRl6ZFjnPq"
      },
      "outputs": [],
      "source": [
        "g_optim = torch.optim.Adam(generator.parameters(), lr=0.0002)\n",
        "d_optim = torch.optim.Adam(discriminator.parameters(), lr=0.0002)"
      ]
    },
    {
      "cell_type": "code",
      "execution_count": null,
      "metadata": {
        "id": "z14wpEARk-71"
      },
      "outputs": [],
      "source": [
        "criterion = nn.BCELoss()"
      ]
    },
    {
      "cell_type": "code",
      "execution_count": null,
      "metadata": {
        "id": "jCj-sIS3DXk6"
      },
      "outputs": [],
      "source": [
        "def denorm(x):\n",
        "    out = (x + 1) / 2\n",
        "    return out.clamp(0, 1)"
      ]
    },
    {
      "cell_type": "code",
      "execution_count": null,
      "metadata": {
        "id": "zLDT9h0Uqqdb"
      },
      "outputs": [],
      "source": [
        "real_labels = torch.ones([batch_size,1]).to(device)\n",
        "fake_labels = torch.zeros([batch_size,1]).to(device)"
      ]
    },
    {
      "cell_type": "code",
      "execution_count": null,
      "metadata": {
        "colab": {
          "base_uri": "https://localhost:8080/"
        },
        "id": "rxMosUF0lrAW",
        "outputId": "5961faa0-e6e2-4809-f876-b8dca7ffd7bc"
      },
      "outputs": [
        {
          "name": "stdout",
          "output_type": "stream",
          "text": [
            "Epoch[0/200]: Step[200/600] -- Discriminator Loss: 0.20676669478416443\t -- Generator Loss: 3.2886695861816406\n",
            "Epoch[0/200]: Step[400/600] -- Discriminator Loss: 0.005862819962203503\t -- Generator Loss: 6.115520477294922\n",
            "Epoch[0/200]: Step[600/600] -- Discriminator Loss: 0.05896639823913574\t -- Generator Loss: 4.980039119720459\n",
            "Epoch[1/200]: Step[200/600] -- Discriminator Loss: 0.09939474612474442\t -- Generator Loss: 3.4271953105926514\n",
            "Epoch[1/200]: Step[400/600] -- Discriminator Loss: 0.16903650760650635\t -- Generator Loss: 5.085259437561035\n",
            "Epoch[1/200]: Step[600/600] -- Discriminator Loss: 0.10278700292110443\t -- Generator Loss: 4.32558012008667\n",
            "Epoch[2/200]: Step[200/600] -- Discriminator Loss: 0.1399911344051361\t -- Generator Loss: 4.0613884925842285\n",
            "Epoch[2/200]: Step[400/600] -- Discriminator Loss: 0.5461602210998535\t -- Generator Loss: 3.0934550762176514\n",
            "Epoch[2/200]: Step[600/600] -- Discriminator Loss: 0.13857394456863403\t -- Generator Loss: 3.939342498779297\n",
            "Epoch[3/200]: Step[200/600] -- Discriminator Loss: 0.34800827503204346\t -- Generator Loss: 4.598561763763428\n",
            "Epoch[3/200]: Step[400/600] -- Discriminator Loss: 0.3220624029636383\t -- Generator Loss: 3.381895065307617\n",
            "Epoch[3/200]: Step[600/600] -- Discriminator Loss: 0.3004864752292633\t -- Generator Loss: 3.1518054008483887\n",
            "Epoch[4/200]: Step[200/600] -- Discriminator Loss: 0.2972429394721985\t -- Generator Loss: 3.532003164291382\n",
            "Epoch[4/200]: Step[400/600] -- Discriminator Loss: 0.12372928857803345\t -- Generator Loss: 3.837677478790283\n",
            "Epoch[4/200]: Step[600/600] -- Discriminator Loss: 0.10328704118728638\t -- Generator Loss: 3.516977548599243\n",
            "Epoch[5/200]: Step[200/600] -- Discriminator Loss: 0.15871506929397583\t -- Generator Loss: 5.146432399749756\n",
            "Epoch[5/200]: Step[400/600] -- Discriminator Loss: 0.14047113060951233\t -- Generator Loss: 4.701338768005371\n",
            "Epoch[5/200]: Step[600/600] -- Discriminator Loss: 0.26624128222465515\t -- Generator Loss: 3.720842123031616\n",
            "Epoch[6/200]: Step[200/600] -- Discriminator Loss: 0.07777060568332672\t -- Generator Loss: 5.588032245635986\n",
            "Epoch[6/200]: Step[400/600] -- Discriminator Loss: 0.32921090722084045\t -- Generator Loss: 4.084522724151611\n",
            "Epoch[6/200]: Step[600/600] -- Discriminator Loss: 0.1380215585231781\t -- Generator Loss: 6.781577110290527\n",
            "Epoch[7/200]: Step[200/600] -- Discriminator Loss: 0.315299391746521\t -- Generator Loss: 5.26310920715332\n",
            "Epoch[7/200]: Step[400/600] -- Discriminator Loss: 0.3167639672756195\t -- Generator Loss: 4.550449371337891\n",
            "Epoch[7/200]: Step[600/600] -- Discriminator Loss: 0.19043101370334625\t -- Generator Loss: 8.065174102783203\n",
            "Epoch[8/200]: Step[200/600] -- Discriminator Loss: 0.11710412800312042\t -- Generator Loss: 5.901322364807129\n",
            "Epoch[8/200]: Step[400/600] -- Discriminator Loss: 0.1581447571516037\t -- Generator Loss: 6.329389572143555\n",
            "Epoch[8/200]: Step[600/600] -- Discriminator Loss: 0.09491089731454849\t -- Generator Loss: 6.169257640838623\n",
            "Epoch[9/200]: Step[200/600] -- Discriminator Loss: 0.17323362827301025\t -- Generator Loss: 5.111603260040283\n",
            "Epoch[9/200]: Step[400/600] -- Discriminator Loss: 0.18473103642463684\t -- Generator Loss: 6.501742839813232\n",
            "Epoch[9/200]: Step[600/600] -- Discriminator Loss: 0.16782544553279877\t -- Generator Loss: 6.405894756317139\n",
            "Epoch[10/200]: Step[200/600] -- Discriminator Loss: 0.23061758279800415\t -- Generator Loss: 5.1616950035095215\n",
            "Epoch[10/200]: Step[400/600] -- Discriminator Loss: 0.22754967212677002\t -- Generator Loss: 6.869423866271973\n",
            "Epoch[10/200]: Step[600/600] -- Discriminator Loss: 0.1828712522983551\t -- Generator Loss: 6.134561538696289\n",
            "Epoch[11/200]: Step[200/600] -- Discriminator Loss: 0.1989515721797943\t -- Generator Loss: 4.740294456481934\n",
            "Epoch[11/200]: Step[400/600] -- Discriminator Loss: 0.29712048172950745\t -- Generator Loss: 4.410069465637207\n",
            "Epoch[11/200]: Step[600/600] -- Discriminator Loss: 0.527595579624176\t -- Generator Loss: 4.483833312988281\n",
            "Epoch[12/200]: Step[200/600] -- Discriminator Loss: 0.3881009519100189\t -- Generator Loss: 5.19593620300293\n",
            "Epoch[12/200]: Step[400/600] -- Discriminator Loss: 0.366824209690094\t -- Generator Loss: 3.9503703117370605\n"
          ]
        }
      ],
      "source": [
        "os.makedirs('samples', exist_ok=True)\n",
        "\n",
        "for i in range(epochs):\n",
        "    for k, (batch,_) in enumerate(data):\n",
        "        input = batch.reshape(batch_size,-1).to(device)\n",
        "\n",
        "        #========= Discriminator Training =============\n",
        "        ## feeding real images\n",
        "        d_out = discriminator(input)\n",
        "        real_loss = criterion(d_out, real_labels)\n",
        "\n",
        "        ## feeding fake images\n",
        "        rand_noise = torch.randn([batch_size, noise_size]).to(device)\n",
        "        g_out = generator(rand_noise)\n",
        "        d_out = discriminator(g_out)\n",
        "        fake_loss = criterion(d_out, fake_labels)\n",
        "\n",
        "        d_loss = fake_loss + real_loss\n",
        "\n",
        "        # Zero your gradients for every batch!\n",
        "        d_optim.zero_grad()\n",
        "        d_loss.backward()\n",
        "\n",
        "        # Adjust learning weights\n",
        "        d_optim.step()\n",
        "\n",
        "      #========= Generator Training =============\n",
        "        rand_noise = torch.randn([batch_size, noise_size]).to(device)\n",
        "        g_out = generator(rand_noise)\n",
        "        d_out = discriminator(g_out)\n",
        "        g_loss = criterion(d_out,real_labels)\n",
        "\n",
        "        # train generator\n",
        "        g_optim.zero_grad()\n",
        "        g_loss.backward()\n",
        "        g_optim.step()\n",
        "\n",
        "        if (k+1) % step_size == 0:\n",
        "            print(f\"Epoch[{i}/{epochs}]: Step[{k+1}/{iterations}] -- Discriminator Loss: {d_loss}\\t -- Generator Loss: {g_loss}\")\n",
        "\n",
        "    save_image(denorm(g_out.reshape(100,1,28,28)), f'samples/image{i}.png')\n",
        "\n"
      ]
    },
    {
      "cell_type": "code",
      "execution_count": null,
      "metadata": {
        "id": "m0vbF69DCWwb"
      },
      "outputs": [],
      "source": [
        "shutil.rmtree('./samples')\n"
      ]
    },
    {
      "cell_type": "code",
      "execution_count": null,
      "metadata": {
        "id": "5AbIK6BKhGPT"
      },
      "outputs": [],
      "source": []
    }
  ],
  "metadata": {
    "accelerator": "GPU",
    "colab": {
      "gpuType": "T4",
      "provenance": [],
      "include_colab_link": true
    },
    "kernelspec": {
      "display_name": "Python 3",
      "name": "python3"
    },
    "language_info": {
      "name": "python"
    }
  },
  "nbformat": 4,
  "nbformat_minor": 0
}